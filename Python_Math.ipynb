{
 "cells": [
  {
   "cell_type": "markdown",
   "metadata": {},
   "source": [
    "# Math\n"
   ]
  },
  {
   "cell_type": "markdown",
   "metadata": {},
   "source": [
    "# Trigonometry, ceiling, floor, and constants"
   ]
  },
  {
   "cell_type": "code",
   "execution_count": 6,
   "metadata": {},
   "outputs": [
    {
     "name": "stdout",
     "output_type": "stream",
     "text": [
      "3.141592653589793\n",
      "2.718281828459045\n",
      "nan\n",
      "inf\n",
      "-inf\n"
     ]
    }
   ],
   "source": [
    "import math\n",
    "\n",
    "# Constants\n",
    "print(math.pi)\n",
    "print(math.e)\n",
    "\n",
    "print(math.nan)\n",
    "print(math.inf)\n",
    "print(-math.inf)\n"
   ]
  },
  {
   "cell_type": "code",
   "execution_count": 5,
   "metadata": {},
   "outputs": [
    {
     "name": "stdout",
     "output_type": "stream",
     "text": [
      "0.7071067811865476\n",
      "0.7071067811865475\n"
     ]
    }
   ],
   "source": [
    "# Trigonometry\n",
    "obst_direction = math.cos(math.pi / 4)\n",
    "print(obst_direction)\n",
    "print(math.sin(math.pi / 4))"
   ]
  },
  {
   "cell_type": "code",
   "execution_count": 4,
   "metadata": {},
   "outputs": [
    {
     "name": "stdout",
     "output_type": "stream",
     "text": [
      "11\n",
      "7\n"
     ]
    }
   ],
   "source": [
    "# Ceiling and Floor\n",
    "cookies = 10.3\n",
    "candy = 7\n",
    "print(math.ceil(cookies))\n",
    "print(math.ceil(candy))"
   ]
  },
  {
   "cell_type": "code",
   "execution_count": 3,
   "metadata": {},
   "outputs": [
    {
     "name": "stdout",
     "output_type": "stream",
     "text": [
      "47\n",
      "47\n"
     ]
    }
   ],
   "source": [
    "age = 47.9\n",
    "otherAge = 47\n",
    "print(math.floor(age))\n",
    "print(math.floor(otherAge))"
   ]
  },
  {
   "cell_type": "markdown",
   "metadata": {},
   "source": [
    "# Factorial, square root, and GCD"
   ]
  },
  {
   "cell_type": "code",
   "execution_count": 9,
   "metadata": {},
   "outputs": [],
   "source": [
    "# Math Module Part 2\n",
    "import math\n"
   ]
  },
  {
   "cell_type": "code",
   "execution_count": 10,
   "metadata": {},
   "outputs": [
    {
     "name": "stdout",
     "output_type": "stream",
     "text": [
      "6\n",
      "8.0\n"
     ]
    }
   ],
   "source": [
    "# Factorial & Square Root\n",
    "print(math.factorial(3))\n",
    "print(math.sqrt(64))"
   ]
  },
  {
   "cell_type": "code",
   "execution_count": 11,
   "metadata": {},
   "outputs": [
    {
     "name": "stdout",
     "output_type": "stream",
     "text": [
      "4\n",
      "4\n",
      "0.15384615384615385\n",
      "0.15384615384615385\n"
     ]
    }
   ],
   "source": [
    "# Greatest Common Denominator GCD\n",
    "print(math.gcd(52, 8))\n",
    "print(math.gcd(8, 52))\n",
    "\n",
    "print(8/52)\n",
    "print(2/13)"
   ]
  },
  {
   "cell_type": "code",
   "execution_count": 12,
   "metadata": {},
   "outputs": [
    {
     "name": "stdout",
     "output_type": "stream",
     "text": [
      "6.283185307179586\n",
      "6.283185307179586\n",
      "360.0\n"
     ]
    }
   ],
   "source": [
    "# Degrees and Radians\n",
    "print(math.radians(360))\n",
    "print(math.pi * 2)\n",
    "print(math.degrees(math.pi * 2))"
   ]
  },
  {
   "cell_type": "markdown",
   "metadata": {},
   "source": [
    "# Python Random"
   ]
  },
  {
   "cell_type": "code",
   "execution_count": 10,
   "metadata": {},
   "outputs": [
    {
     "name": "stdout",
     "output_type": "stream",
     "text": [
      "5 5\n",
      "3 7\n",
      "1 7\n",
      "1 3\n",
      "3 1\n",
      "1 2\n",
      "5 1\n",
      "1 4\n",
      "1 1\n",
      "1 4\n",
      "4 3\n",
      "2 7\n",
      "5 2\n",
      "1 6\n",
      "4 3\n",
      "1 7\n",
      "5 5\n",
      "4 2\n",
      "4 3\n",
      "4 3\n"
     ]
    }
   ],
   "source": [
    "import random\n",
    "for i in range(20):\n",
    "    print(random.randrange(1, 7), random.randint(1,7))\n",
    "#"
   ]
  },
  {
   "cell_type": "code",
   "execution_count": 4,
   "metadata": {},
   "outputs": [
    {
     "name": "stdout",
     "output_type": "stream",
     "text": [
      "0.5175957455409349\n",
      "HEADS\n",
      "0\n",
      "You rolled a 3\n"
     ]
    }
   ],
   "source": [
    "# Random Module\n",
    "import random\n",
    "\n",
    "# Random Numbers\n",
    "print(random.random())\n",
    "decider = random.randrange(2)\n",
    "if decider == 0:\n",
    "    print(\"HEADS\")\n",
    "else:\n",
    "    print(\"TAILS\")\n",
    "print(decider)\n",
    "\n",
    "print(\"You rolled a \" + str(random.randrange(1, 7)))"
   ]
  },
  {
   "cell_type": "code",
   "execution_count": 11,
   "metadata": {},
   "outputs": [
    {
     "name": "stdout",
     "output_type": "stream",
     "text": [
      "[93, 91, 86, 17, 33]\n",
      "dog\n",
      "['King', 'Jack', 'Queen', 'Ace']\n"
     ]
    }
   ],
   "source": [
    "# Random Choices\n",
    "lotteryWinners = random.sample(range(100), 5)\n",
    "print(lotteryWinners)\n",
    "\n",
    "possiblePets = [\"cat\", \"dog\", \"fish\"]\n",
    "print(random.choice(possiblePets))\n",
    "\n",
    "cards = [\"Jack\", \"Queen\", \"King\", \"Ace\"]\n",
    "random.shuffle(cards)\n",
    "print(cards)"
   ]
  },
  {
   "cell_type": "markdown",
   "metadata": {},
   "source": [
    "# Calculating statistics with Python"
   ]
  },
  {
   "cell_type": "code",
   "execution_count": 15,
   "metadata": {},
   "outputs": [
    {
     "name": "stdout",
     "output_type": "stream",
     "text": [
      "11.777777777777779\n",
      "10\n",
      "11\n",
      "[10, 10, 10, 11, 11, 12, 13, 14, 15]\n",
      "3.4444444444444446\n",
      "1.855921454276674\n",
      "1.855921454276674\n"
     ]
    }
   ],
   "source": [
    "# Statistics Module\n",
    "import statistics\n",
    "import math\n",
    "\n",
    "agesData = [10, 13, 14, 12, 11, 10, 11, 10, 15]\n",
    "\n",
    "print(statistics.mean(agesData))\n",
    "print(statistics.mode(agesData))\n",
    "print(statistics.median(agesData))\n",
    "print(sorted(agesData))\n",
    "\n",
    "print(statistics.variance(agesData))\n",
    "print(statistics.stdev(agesData))\n",
    "print(math.sqrt(statistics.variance(agesData)))"
   ]
  },
  {
   "cell_type": "markdown",
   "metadata": {},
   "source": [
    "# Iterators with itertools: Infinite processes\n"
   ]
  },
  {
   "cell_type": "code",
   "execution_count": 24,
   "metadata": {},
   "outputs": [
    {
     "name": "stdout",
     "output_type": "stream",
     "text": [
      "50\n",
      "55\n",
      "60\n",
      "65\n",
      "70\n",
      "75\n",
      "80\n"
     ]
    }
   ],
   "source": [
    "# Itertools\n",
    "import itertools\n",
    "\n",
    "# Infinite Counting\n",
    "for x in itertools.count(50, 5):\n",
    "    print(x)\n",
    "    if x == 80:\n",
    "        break;\n",
    "\n",
    "x = 0;"
   ]
  },
  {
   "cell_type": "code",
   "execution_count": 22,
   "metadata": {},
   "outputs": [
    {
     "name": "stdout",
     "output_type": "stream",
     "text": [
      "R\n",
      "A\n",
      "C\n",
      "E\n",
      "C\n",
      "A\n",
      "R\n",
      "R\n",
      "A\n",
      "C\n",
      "E\n",
      "C\n",
      "A\n",
      "R\n",
      "R\n",
      "A\n",
      "C\n",
      "E\n",
      "C\n",
      "A\n",
      "R\n",
      "R\n",
      "A\n",
      "C\n",
      "E\n",
      "C\n",
      "A\n",
      "R\n",
      "R\n",
      "A\n",
      "C\n",
      "E\n",
      "C\n",
      "A\n",
      "R\n",
      "R\n",
      "A\n",
      "C\n",
      "E\n",
      "C\n",
      "A\n",
      "R\n",
      "R\n",
      "A\n",
      "C\n",
      "E\n",
      "C\n",
      "A\n",
      "R\n",
      "R\n",
      "A\n"
     ]
    }
   ],
   "source": [
    "# Infinite Cycling\n",
    "for c in itertools.cycle(\"RACECAR\"):\n",
    "    print(c)\n",
    "    x = x + 1\n",
    "    if x > 50:\n",
    "        break;"
   ]
  },
  {
   "cell_type": "code",
   "execution_count": 25,
   "metadata": {},
   "outputs": [
    {
     "name": "stdout",
     "output_type": "stream",
     "text": [
      "1\n",
      "2\n",
      "3\n",
      "4\n",
      "1\n",
      "2\n",
      "3\n",
      "4\n",
      "1\n",
      "2\n",
      "3\n",
      "4\n",
      "1\n",
      "2\n",
      "3\n",
      "4\n",
      "1\n",
      "2\n",
      "3\n",
      "4\n",
      "1\n",
      "2\n",
      "3\n",
      "4\n",
      "1\n",
      "2\n",
      "3\n",
      "4\n",
      "1\n",
      "2\n",
      "3\n",
      "4\n",
      "1\n",
      "2\n",
      "3\n",
      "4\n",
      "1\n",
      "2\n",
      "3\n",
      "4\n",
      "1\n",
      "2\n",
      "3\n",
      "4\n",
      "1\n",
      "2\n",
      "3\n",
      "4\n",
      "1\n",
      "2\n",
      "3\n"
     ]
    }
   ],
   "source": [
    "# Infinite Cycling\n",
    "for c in itertools.cycle([1,2,3,4]):\n",
    "    print(c)\n",
    "    x = x + 1\n",
    "    if x > 50:\n",
    "        break;"
   ]
  },
  {
   "cell_type": "code",
   "execution_count": 18,
   "metadata": {},
   "outputs": [
    {
     "name": "stdout",
     "output_type": "stream",
     "text": [
      "True\n",
      "True\n",
      "True\n",
      "True\n",
      "True\n",
      "True\n",
      "True\n",
      "True\n",
      "True\n",
      "True\n",
      "True\n",
      "True\n",
      "True\n",
      "True\n",
      "True\n",
      "True\n",
      "True\n",
      "True\n",
      "True\n",
      "True\n",
      "True\n",
      "True\n",
      "True\n",
      "True\n",
      "True\n",
      "True\n",
      "True\n",
      "True\n",
      "True\n",
      "True\n",
      "True\n",
      "True\n",
      "True\n",
      "True\n",
      "True\n",
      "True\n",
      "True\n",
      "True\n",
      "True\n",
      "True\n",
      "True\n",
      "True\n",
      "True\n",
      "True\n",
      "True\n",
      "True\n",
      "True\n",
      "True\n",
      "True\n",
      "True\n"
     ]
    }
   ],
   "source": [
    "# Infinite Repeating\n",
    "for r in itertools.repeat(True):\n",
    "    print(r)\n",
    "    x = x + 1\n",
    "    if x > 100:\n",
    "        break;"
   ]
  },
  {
   "cell_type": "markdown",
   "metadata": {},
   "source": [
    "# Iterators with itertools: Permutations and combinations"
   ]
  },
  {
   "cell_type": "code",
   "execution_count": 28,
   "metadata": {},
   "outputs": [
    {
     "name": "stdout",
     "output_type": "stream",
     "text": [
      "(1, 2, 3)\n",
      "(1, 3, 2)\n",
      "(2, 1, 3)\n",
      "(2, 3, 1)\n",
      "(3, 1, 2)\n",
      "(3, 2, 1)\n",
      "('Barb', 'Karen', 'Erin')\n",
      "('Barb', 'Erin', 'Karen')\n",
      "('Karen', 'Barb', 'Erin')\n",
      "('Karen', 'Erin', 'Barb')\n",
      "('Erin', 'Barb', 'Karen')\n",
      "('Erin', 'Karen', 'Barb')\n"
     ]
    }
   ],
   "source": [
    "# Itertools Part 2\n",
    "import itertools\n",
    "\n",
    "# Permutations: Order matters - some copies with same inputs but in different order\n",
    "election = {1: \"Barb\", 2:\"Karen\", 3:\"Erin\"}\n",
    "for p in itertools.permutations(election):\n",
    "    print(p)\n",
    "\n",
    "for p1 in itertools.permutations(election.values()):\n",
    "    print(p1)"
   ]
  },
  {
   "cell_type": "code",
   "execution_count": 30,
   "metadata": {},
   "outputs": [
    {
     "name": "stdout",
     "output_type": "stream",
     "text": [
      "('Red', 'Blue')\n",
      "('Red', 'Purple')\n",
      "('Red', 'Orange')\n",
      "('Red', 'Yellow')\n",
      "('Red', 'Pink')\n",
      "('Blue', 'Purple')\n",
      "('Blue', 'Orange')\n",
      "('Blue', 'Yellow')\n",
      "('Blue', 'Pink')\n",
      "('Purple', 'Orange')\n",
      "('Purple', 'Yellow')\n",
      "('Purple', 'Pink')\n",
      "('Orange', 'Yellow')\n",
      "('Orange', 'Pink')\n",
      "('Yellow', 'Pink')\n"
     ]
    }
   ],
   "source": [
    "\n",
    "# Combinations: Order does not matter - no copies with same inputs\n",
    "colorsForPainting = [\"Red\", \"Blue\", \"Purple\", \"Orange\", \"Yellow\", \"Pink\"]\n",
    "for c in itertools.combinations(colorsForPainting, 2):\n",
    "    print(c)"
   ]
  },
  {
   "cell_type": "code",
   "execution_count": 31,
   "metadata": {},
   "outputs": [
    {
     "name": "stdout",
     "output_type": "stream",
     "text": [
      "('Red', 'Blue', 'Purple')\n",
      "('Red', 'Blue', 'Orange')\n",
      "('Red', 'Blue', 'Yellow')\n",
      "('Red', 'Blue', 'Pink')\n",
      "('Red', 'Purple', 'Orange')\n",
      "('Red', 'Purple', 'Yellow')\n",
      "('Red', 'Purple', 'Pink')\n",
      "('Red', 'Orange', 'Yellow')\n",
      "('Red', 'Orange', 'Pink')\n",
      "('Red', 'Yellow', 'Pink')\n",
      "('Blue', 'Purple', 'Orange')\n",
      "('Blue', 'Purple', 'Yellow')\n",
      "('Blue', 'Purple', 'Pink')\n",
      "('Blue', 'Orange', 'Yellow')\n",
      "('Blue', 'Orange', 'Pink')\n",
      "('Blue', 'Yellow', 'Pink')\n",
      "('Purple', 'Orange', 'Yellow')\n",
      "('Purple', 'Orange', 'Pink')\n",
      "('Purple', 'Yellow', 'Pink')\n",
      "('Orange', 'Yellow', 'Pink')\n"
     ]
    }
   ],
   "source": [
    "# Combinations: Order does not matter - no copies with same inputs\n",
    "colorsForPainting = [\"Red\", \"Blue\", \"Purple\", \"Orange\", \"Yellow\", \"Pink\"]\n",
    "for c in itertools.combinations(colorsForPainting, 3):\n",
    "    print(c)"
   ]
  },
  {
   "cell_type": "code",
   "execution_count": null,
   "metadata": {},
   "outputs": [],
   "source": []
  }
 ],
 "metadata": {
  "kernelspec": {
   "display_name": "Python 3",
   "language": "python",
   "name": "python3"
  },
  "language_info": {
   "codemirror_mode": {
    "name": "ipython",
    "version": 3
   },
   "file_extension": ".py",
   "mimetype": "text/x-python",
   "name": "python",
   "nbconvert_exporter": "python",
   "pygments_lexer": "ipython3",
   "version": "3.7.6"
  }
 },
 "nbformat": 4,
 "nbformat_minor": 2
}
