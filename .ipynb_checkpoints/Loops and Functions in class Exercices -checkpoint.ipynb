{
 "cells": [
  {
   "cell_type": "code",
   "execution_count": 2,
   "metadata": {},
   "outputs": [],
   "source": [
    "## Make sure you run this chunck to load the libraries\n",
    "import math\n",
    "import random"
   ]
  },
  {
   "cell_type": "markdown",
   "metadata": {},
   "source": [
    "## Loops"
   ]
  },
  {
   "cell_type": "markdown",
   "metadata": {},
   "source": [
    "**1.** With a for loop, write a happy new year to a group friends stored in a list. (friends = ['Joseph', 'Glenn', 'Sally']). Your output should read: \n",
    "\n",
    "Happy New Year Joseph!  \n",
    "Happy New Year Glenn!   \n",
    "Happy New Year Sally!  \n",
    "Bye!  "
   ]
  },
  {
   "cell_type": "code",
   "execution_count": 5,
   "metadata": {},
   "outputs": [
    {
     "name": "stdout",
     "output_type": "stream",
     "text": [
      "Happy New YearJoseph\n",
      "Happy New YearGlenn\n",
      "Happy New YearSally\n",
      "Bye\n"
     ]
    }
   ],
   "source": [
    "friends = ['Joseph', 'Glenn', 'Sally']\n",
    "for friend in friends:\n",
    "    print('Happy New Year{}'.format(friend))\n",
    "print('Bye')\n",
    "        "
   ]
  },
  {
   "cell_type": "markdown",
   "metadata": {},
   "source": [
    "**2.** With a for loop, find how many numbers there are in the following list of positive numbers:  \n",
    "numbers= [9, 41, 12, 3, 74, 15]"
   ]
  },
  {
   "cell_type": "code",
   "execution_count": 17,
   "metadata": {},
   "outputs": [
    {
     "name": "stdout",
     "output_type": "stream",
     "text": [
      "The count is 6\n"
     ]
    }
   ],
   "source": [
    "numbers= [9, 41, 12, 3, 74, 15]\n",
    "count = 0\n",
    "for num in numbers:\n",
    "    \n",
    "    count = count +1   ## alternatively you can write  count +=1\n",
    "print('The count is {}'.format(count))"
   ]
  },
  {
   "cell_type": "markdown",
   "metadata": {},
   "source": [
    "**3**. With a for loop, find how many even numbers there are in the 'numbers'"
   ]
  },
  {
   "cell_type": "code",
   "execution_count": 18,
   "metadata": {},
   "outputs": [
    {
     "name": "stdout",
     "output_type": "stream",
     "text": [
      "The count is 2\n"
     ]
    }
   ],
   "source": [
    "count = 0\n",
    "for num in numbers:\n",
    "    if num % 2 == 0:\n",
    "    \n",
    "        count = count +1   ## alternatively you can write  count +=1\n",
    "print('The count is {}'.format(count))"
   ]
  },
  {
   "cell_type": "markdown",
   "metadata": {},
   "source": [
    "**4.** With a for loop, create a new list with the odd values in the 'numbers'. The result should be a list such as:  odds= [9, 41, 3, 15]"
   ]
  },
  {
   "cell_type": "code",
   "execution_count": 22,
   "metadata": {},
   "outputs": [
    {
     "name": "stdout",
     "output_type": "stream",
     "text": [
      "[9, 41, 3, 15]\n"
     ]
    }
   ],
   "source": [
    "odds = []\n",
    "for num in numbers:\n",
    "    if num % 2 != 0:    \n",
    "        odds.append(num)\n",
    "print(odds)\n",
    "    \n"
   ]
  },
  {
   "cell_type": "markdown",
   "metadata": {},
   "source": [
    "**5**. With a for loop find the largest number in the following list of positive numbers:  \n",
    "  numbers=  [9, 41, 12, 3, 74, 15] "
   ]
  },
  {
   "cell_type": "code",
   "execution_count": 24,
   "metadata": {},
   "outputs": [
    {
     "name": "stdout",
     "output_type": "stream",
     "text": [
      "9 9\n",
      "41 41\n",
      "12 41\n",
      "3 41\n",
      "74 74\n",
      "15 74\n",
      "The largest number is 74\n"
     ]
    }
   ],
   "source": [
    "numbers= [9, 41, 12, 3, 74, 15]\n",
    "smallest_so_far = -1\n",
    "for a_number in numbers:\n",
    "    if a_number > smallest_so_far:\n",
    "        smallest_so_far = a_number\n",
    "    print(a_number, smallest_so_far)\n",
    "print ('The largest number is {}'.format(smallest_so_far))"
   ]
  },
  {
   "cell_type": "markdown",
   "metadata": {},
   "source": [
    "**6.** Print only vowels in a string. For example if the string is 'great' you should print:  \n",
    "g  \n",
    "r  \n",
    "t  \n"
   ]
  },
  {
   "cell_type": "code",
   "execution_count": 25,
   "metadata": {},
   "outputs": [],
   "source": [
    "vowels='aeiou'"
   ]
  },
  {
   "cell_type": "code",
   "execution_count": null,
   "metadata": {},
   "outputs": [],
   "source": []
  },
  {
   "cell_type": "markdown",
   "metadata": {},
   "source": [
    "**7.** Find the intersection of two lists using loops: return the common elements of two lists as a list. For example for the following two lists:  \n",
    "list_a=[3,5,7,9] and list_b=[9, 8 , 12, 7]  \n",
    "the result should be:  \n",
    "[7,9]  (or [9,7])"
   ]
  },
  {
   "cell_type": "code",
   "execution_count": null,
   "metadata": {},
   "outputs": [],
   "source": []
  },
  {
   "cell_type": "markdown",
   "metadata": {},
   "source": [
    "**8.** The following  function simulates a coin flip."
   ]
  },
  {
   "cell_type": "code",
   "execution_count": 207,
   "metadata": {},
   "outputs": [],
   "source": [
    "flip=random.randint(0,1) ##0 means head, 1 means tail"
   ]
  },
  {
   "cell_type": "markdown",
   "metadata": {},
   "source": [
    "Run the simulation until we get two heads, and print out the number of coin flips it took to get two heads"
   ]
  },
  {
   "cell_type": "code",
   "execution_count": null,
   "metadata": {},
   "outputs": [],
   "source": []
  },
  {
   "cell_type": "markdown",
   "metadata": {},
   "source": [
    "**9.**  Run the simulation until we get two **consecutive** heads, and print out the number of flips it took to get two heads"
   ]
  },
  {
   "cell_type": "code",
   "execution_count": null,
   "metadata": {},
   "outputs": [],
   "source": []
  },
  {
   "cell_type": "markdown",
   "metadata": {},
   "source": [
    "**10.** The following function simulates three coin flips"
   ]
  },
  {
   "cell_type": "code",
   "execution_count": 10,
   "metadata": {},
   "outputs": [
    {
     "data": {
      "text/plain": [
       "['T', 'H', 'T']"
      ]
     },
     "execution_count": 10,
     "metadata": {},
     "output_type": "execute_result"
    }
   ],
   "source": [
    "three_flips=random.choices(['H','T'],k=3)  ## 'H' for Head and 'T' for Tail\n",
    "three_flips"
   ]
  },
  {
   "cell_type": "markdown",
   "metadata": {},
   "source": [
    "What is the probability of getting 2 heads (exactly) when a coin flipped 3 times, estimate it using the simulation above"
   ]
  },
  {
   "cell_type": "code",
   "execution_count": null,
   "metadata": {},
   "outputs": [],
   "source": []
  },
  {
   "cell_type": "markdown",
   "metadata": {},
   "source": [
    "### More interesting use of loops"
   ]
  },
  {
   "cell_type": "markdown",
   "metadata": {},
   "source": [
    "**L1.** One of the first known examples of encryption was used by Julius Caesar. Caesar needed to provide written instructions to his generals, but he didn’t want his enemies to learn his plans if the message slipped into their hands. As result, he developed what later became known as the Caesar Cipher.  \n",
    "\n",
    "   The idea behind this cipher is simple (and as a result, it provides no protection against modern code breaking techniques). Each letter in the original message is shifted by 3 places. As a result, A becomes D, B becomes E, C becomes F, D becomes G, etc. The last three letters in the alphabet are wrapped around to the beginning: X becomes A, Y becomes B and Z becomes C. Non-letter characters are not modified by the cipher.    \n",
    "     \n",
    "   Write a program that implements a Caesar cipher. Allow the user to supply the message and the shift amount, and then display the shifted message. Ensure that your program encodes both uppercase and lowercase letters. \n",
    "   \n",
    "**Hint**: you can use a string that contains all letters as your reference as shown below"
   ]
  },
  {
   "cell_type": "code",
   "execution_count": 12,
   "metadata": {},
   "outputs": [
    {
     "data": {
      "text/plain": [
       "'a'"
      ]
     },
     "execution_count": 12,
     "metadata": {},
     "output_type": "execute_result"
    }
   ],
   "source": [
    "alphabet='abcdefghijklmnopqrstuvwxyz'\n",
    "alphabet[0]"
   ]
  },
  {
   "cell_type": "code",
   "execution_count": null,
   "metadata": {},
   "outputs": [],
   "source": []
  },
  {
   "cell_type": "markdown",
   "metadata": {},
   "source": [
    "**L2.** Write a program that implements Newton’s method to compute and display the square root of a number entered by the user. The algorithm for Newton’s method follows:\n",
    "\n",
    "- Setup x as variable  \n",
    "- Initialize *guess* to x/2  \n",
    "- **While** *guess* is not good enough **do**   \n",
    "  - Update *guess* to be the average of *guess* and $\\frac{x}{\\textit{guess}}$  \n",
    "\n",
    "When this algorithm completes, *guess* contains an approximation of the square root. The quality of the approximation depends on how you define “good enough”. In the author’s solution, *guess* was considered good enough when the absolute value of the difference between *guess* \\* *guess* ($=guess^{2}$) and *x* was less than or equal to $10^{-12}$."
   ]
  },
  {
   "cell_type": "code",
   "execution_count": null,
   "metadata": {},
   "outputs": [],
   "source": []
  },
  {
   "cell_type": "markdown",
   "metadata": {},
   "source": [
    "**L3.** The prime factorization of an integer, *n*, can be determined using the following steps: \n",
    "\n",
    "- Initialize a variable n, and  *factor*. Set factor two 2 as the lowest possible prime factor\n",
    "- **While** *factor* is less than or equal to *n* **do**\n",
    "\t- **If** *n* is evenly divisable by *factor* then\n",
    "\t\t- Conclude that *factor* is a factor of *n*\n",
    "\t\t- Divide *n* by *factor* using integer division\n",
    "\t- **Else**\n",
    "\t\t- Increas *factor* by one\n",
    "\n",
    "\n",
    "\n",
    "Write a program that reads an integer from the user. If the value entered by the user is less than 2 then your program should display an appropriate error message. Otherwise your program should display the prime numbers that can be multiplied together to compute *n* in a list"
   ]
  },
  {
   "cell_type": "code",
   "execution_count": null,
   "metadata": {},
   "outputs": [],
   "source": []
  },
  {
   "cell_type": "markdown",
   "metadata": {},
   "source": [
    "**L4.** In the game of Scrabble ™, each letter has points associated with it. The total score of a word is the sum of the scores of its letters. More common letters are worth fewer points while less common letters are worth more points. The points associated with each letter are shown below:  \n",
    "\n",
    "|Points| Letters |\n",
    "|---|------------|\n",
    "| 1 | A,E,I,L,N,O,R,S,T,U |\n",
    "| 2 | D,G           |\n",
    "| 3 | B,C,M,P       |\n",
    "| 4 | F,H,W,Y       |\n",
    "| 5 | K       |\n",
    "| 6 | J,K       |\n",
    "| 7 | Q,Z       |\n",
    "\n",
    "\n"
   ]
  },
  {
   "cell_type": "code",
   "execution_count": 184,
   "metadata": {},
   "outputs": [],
   "source": [
    "scores={'AEILNORSTU':1, 'DG':2, 'BCMP':3,'FHVWY':4, 'K':5, 'JX':6,'QZ':7}"
   ]
  },
  {
   "cell_type": "code",
   "execution_count": null,
   "metadata": {},
   "outputs": [],
   "source": []
  },
  {
   "cell_type": "markdown",
   "metadata": {},
   "source": [
    "## Some interesting use of permutation and random functions"
   ]
  },
  {
   "cell_type": "code",
   "execution_count": 32,
   "metadata": {},
   "outputs": [],
   "source": []
  },
  {
   "cell_type": "markdown",
   "metadata": {},
   "source": [
    "**R1.** Simulate a game show that gives a grand prize - a brand new car when the guest correctly guesses which of the three doors lead to it (1, 2, or 3). What is the probability of winning the car ? "
   ]
  },
  {
   "cell_type": "code",
   "execution_count": null,
   "metadata": {},
   "outputs": [],
   "source": []
  },
  {
   "cell_type": "markdown",
   "metadata": {},
   "source": [
    "**R2.** Monty Hall problem:  \"Suppose you're on a game show, and you're given the choice of three doors: Behind one door is a car; behind the others, goats. You pick a door, say No. 1, and the host, who knows what's behind the doors, opens another door, say No. 3, which has a goat. He then says to you, \"Do you want to pick door No. 2?\" Is it to your advantage to switch your choice?\" (Wikipedia:https://en.wikipedia.org/wiki/Monty_Hall_problem) \n",
    "\n",
    "With a simulation estimate the probability of winning when you switch your choice based on the door opened by the host"
   ]
  },
  {
   "cell_type": "code",
   "execution_count": null,
   "metadata": {},
   "outputs": [],
   "source": []
  },
  {
   "cell_type": "code",
   "execution_count": null,
   "metadata": {},
   "outputs": [],
   "source": []
  },
  {
   "cell_type": "code",
   "execution_count": null,
   "metadata": {},
   "outputs": [],
   "source": []
  }
 ],
 "metadata": {
  "kernelspec": {
   "display_name": "Python 3",
   "language": "python",
   "name": "python3"
  },
  "language_info": {
   "codemirror_mode": {
    "name": "ipython",
    "version": 3
   },
   "file_extension": ".py",
   "mimetype": "text/x-python",
   "name": "python",
   "nbconvert_exporter": "python",
   "pygments_lexer": "ipython3",
   "version": "3.7.6"
  }
 },
 "nbformat": 4,
 "nbformat_minor": 2
}
