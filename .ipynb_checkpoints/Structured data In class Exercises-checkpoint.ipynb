{
 "cells": [
  {
   "cell_type": "markdown",
   "metadata": {},
   "source": [
    "### Part 1"
   ]
  },
  {
   "cell_type": "markdown",
   "metadata": {},
   "source": [
    "Create the areas list and answer the following questions"
   ]
  },
  {
   "cell_type": "code",
   "execution_count": 1,
   "metadata": {},
   "outputs": [],
   "source": [
    "areas = [\"hallway\", 11.25, \"kitchen\", 18.0, \"living room\", 20.0, \"bedroom\", 10.75, \"bathroom\", 9.50]"
   ]
  },
  {
   "cell_type": "markdown",
   "metadata": {},
   "source": [
    "1- Print out second element from areas"
   ]
  },
  {
   "cell_type": "code",
   "execution_count": null,
   "metadata": {},
   "outputs": [],
   "source": [
    "print(areas)"
   ]
  },
  {
   "cell_type": "markdown",
   "metadata": {},
   "source": [
    "2- Print out last element from areas"
   ]
  },
  {
   "cell_type": "code",
   "execution_count": null,
   "metadata": {},
   "outputs": [],
   "source": []
  },
  {
   "cell_type": "markdown",
   "metadata": {},
   "source": [
    "3 - Print out the area of the living room"
   ]
  },
  {
   "cell_type": "code",
   "execution_count": null,
   "metadata": {},
   "outputs": [],
   "source": []
  },
  {
   "cell_type": "markdown",
   "metadata": {},
   "source": [
    "4 - Set the sum of kitchen and bedroom area to a new variable: eat_sleep_area (retrieve the kitchen and bedroom areas from the list instead of typing them manually)"
   ]
  },
  {
   "cell_type": "code",
   "execution_count": null,
   "metadata": {},
   "outputs": [],
   "source": []
  },
  {
   "cell_type": "markdown",
   "metadata": {},
   "source": [
    "5 - Create a new list that only has hallway and kitchen area (retrive the hallway and kitchen eareas from the areas list instead of typing them manually "
   ]
  },
  {
   "cell_type": "code",
   "execution_count": null,
   "metadata": {},
   "outputs": [],
   "source": []
  },
  {
   "cell_type": "markdown",
   "metadata": {},
   "source": [
    "6 - Hallway, kitchen and living room are on the first floor. Slice the areas list to show only the first floor elements"
   ]
  },
  {
   "cell_type": "code",
   "execution_count": null,
   "metadata": {},
   "outputs": [],
   "source": []
  },
  {
   "cell_type": "markdown",
   "metadata": {},
   "source": [
    "7 - Slice the areas to show the second floor only (there are only two floors)"
   ]
  },
  {
   "cell_type": "code",
   "execution_count": null,
   "metadata": {},
   "outputs": [],
   "source": []
  },
  {
   "cell_type": "markdown",
   "metadata": {},
   "source": [
    "8- The bathroom area was given incorrectly. Change the bathroom area to 10.50"
   ]
  },
  {
   "cell_type": "code",
   "execution_count": null,
   "metadata": {},
   "outputs": [],
   "source": []
  },
  {
   "cell_type": "markdown",
   "metadata": {},
   "source": [
    "9 - Change \"living room\" to \"chill zone\" "
   ]
  },
  {
   "cell_type": "code",
   "execution_count": null,
   "metadata": {},
   "outputs": [],
   "source": []
  },
  {
   "cell_type": "markdown",
   "metadata": {},
   "source": [
    "10 - Create a new list (areas2) that has all the values in areas and a new area called \"poolhouse\" that is 24.5 "
   ]
  },
  {
   "cell_type": "code",
   "execution_count": null,
   "metadata": {},
   "outputs": [],
   "source": []
  },
  {
   "cell_type": "markdown",
   "metadata": {},
   "source": [
    "11 - Remove the \"poolhouse\" and its value from areas2"
   ]
  },
  {
   "cell_type": "code",
   "execution_count": null,
   "metadata": {},
   "outputs": [],
   "source": []
  },
  {
   "cell_type": "markdown",
   "metadata": {},
   "source": [
    "### Part 2"
   ]
  },
  {
   "cell_type": "markdown",
   "metadata": {},
   "source": [
    "Following dictionary shows the top 10 Female baby names in 2012"
   ]
  },
  {
   "cell_type": "code",
   "execution_count": 4,
   "metadata": {},
   "outputs": [],
   "source": [
    "baby_names={1: 'EMMA', 2: 'LEAH', 3: 'SARAH',  4: 'SOPHIA', 5: 'ESTHER', 6: 'RACHEL',\n",
    " 7: 'CHAYA', 8: 'AVA', 9: 'CHANA', 10: 'MIRIAM'}"
   ]
  },
  {
   "cell_type": "markdown",
   "metadata": {},
   "source": [
    "1 - Using baby_names, write a script to print the rank of name  and the name. The first line should read:  \"1. name is Emma\""
   ]
  },
  {
   "cell_type": "code",
   "execution_count": null,
   "metadata": {},
   "outputs": [],
   "source": []
  },
  {
   "cell_type": "markdown",
   "metadata": {},
   "source": [
    "2 - Change the name in the 10th place to \"Emily\"    "
   ]
  },
  {
   "cell_type": "code",
   "execution_count": null,
   "metadata": {},
   "outputs": [],
   "source": []
  },
  {
   "cell_type": "markdown",
   "metadata": {},
   "source": [
    "3 - Create a \"list\" of names by extracting them from the dictionary   "
   ]
  },
  {
   "cell_type": "code",
   "execution_count": null,
   "metadata": {},
   "outputs": [],
   "source": []
  },
  {
   "cell_type": "markdown",
   "metadata": {},
   "source": [
    "4 - Find the ranking of Channa. You may need to loop through the dictionary until you find Channa in the dictionary."
   ]
  },
  {
   "cell_type": "code",
   "execution_count": null,
   "metadata": {},
   "outputs": [],
   "source": []
  },
  {
   "cell_type": "markdown",
   "metadata": {},
   "source": [
    "5 - Given the morse code dictionary below. Decipher the following message"
   ]
  },
  {
   "cell_type": "code",
   "execution_count": 5,
   "metadata": {},
   "outputs": [],
   "source": [
    "MORSE_CODE_DICT = {'.-': 'A','-...': 'B', '-.-.': 'C', '-..': 'D',\n",
    "                   '.': 'E', '..-.': 'F', '--.': 'G', '....': 'H',\n",
    "                   '..': 'I', '.---': 'J', '-.-': 'K', '.-..': 'L',\n",
    "                   '--': 'M', '-.': 'N', '---': 'O', '.--.': 'P',\n",
    "                   '--.-': 'Q', '.-.': 'R', '...': 'S', '-': 'T',\n",
    "                   '..-': 'U', '...-': 'V', '.--': 'W', '-..-': 'X',\n",
    "                   '-.--': 'Y', '--..': 'Z', '.----': '1', '..---': '2',\n",
    "                   '...--': '3', '....-': '4', '.....': '5', '-....': '6',\n",
    "                   '--...': '7', '---..': '8', '----.': '9', '-----': '0',\n",
    "                   '--..--': ', ', '.-.-.-': '.', '..--..': '?', '-..-.': '/',\n",
    "                   '-....-': '-', '-.--.': '(', '-.--.-': ')'}"
   ]
  },
  {
   "cell_type": "code",
   "execution_count": 6,
   "metadata": {},
   "outputs": [],
   "source": [
    "message=['--.', '.', '.', '-.-', '...', '-....-', '..-.', '---', '.-.', '-....-', '--.', '.', '.', '-.-', '...', ''] "
   ]
  },
  {
   "cell_type": "code",
   "execution_count": 9,
   "metadata": {},
   "outputs": [
    {
     "name": "stdout",
     "output_type": "stream",
     "text": [
      "G\n",
      "E\n",
      "E\n",
      "K\n",
      "S\n",
      "-\n",
      "F\n",
      "O\n",
      "R\n",
      "-\n",
      "G\n",
      "E\n",
      "E\n",
      "K\n",
      "S\n",
      "None\n"
     ]
    }
   ],
   "source": [
    "for item in message:\n",
    "    print(MORSE_CODE_DICT.get(item))"
   ]
  },
  {
   "cell_type": "markdown",
   "metadata": {},
   "source": [
    "6 - Bonus: Put \"Ella\" in the third place and update the list by lowering the rankings of everyone that would come after Ella. \"Sarah\" should be 4th, \"Sophia\" should be 5th ... "
   ]
  },
  {
   "cell_type": "code",
   "execution_count": null,
   "metadata": {},
   "outputs": [],
   "source": []
  }
 ],
 "metadata": {
  "kernelspec": {
   "display_name": "Python 3",
   "language": "python",
   "name": "python3"
  },
  "language_info": {
   "codemirror_mode": {
    "name": "ipython",
    "version": 3
   },
   "file_extension": ".py",
   "mimetype": "text/x-python",
   "name": "python",
   "nbconvert_exporter": "python",
   "pygments_lexer": "ipython3",
   "version": "3.7.6"
  }
 },
 "nbformat": 4,
 "nbformat_minor": 2
}
