{
 "cells": [
  {
   "cell_type": "code",
   "execution_count": 45,
   "metadata": {
    "collapsed": true,
    "hide_input": false,
    "slideshow": {
     "slide_type": "slide"
    }
   },
   "outputs": [],
   "source": [
    "## Run the following code for data prep\n",
    "import pandas as pd \n",
    "\n",
    "df=pd.read_csv('movie_ratings.csv' )\n",
    "\n",
    "first_genre=df['genres'].str.split('|', expand=True)[0]\n",
    "df['main_genre']=first_genre\n",
    "\n",
    "df['title']=df['title'].str.strip()\n",
    "df['year']=df['title'].str[-5:-1]\n",
    "df=df[df['year'].str.isnumeric()]\n",
    "df['year']=pd.to_numeric(df['year'])"
   ]
  },
  {
   "cell_type": "markdown",
   "metadata": {},
   "source": [
    "What are the yearly rating averages?"
   ]
  },
  {
   "cell_type": "code",
   "execution_count": null,
   "metadata": {
    "collapsed": true
   },
   "outputs": [],
   "source": []
  },
  {
   "cell_type": "markdown",
   "metadata": {},
   "source": [
    "Which years have the top 3 rating averages. Are you surprised to see these years? What can potentially explain the fact that these years have the highest averages ? "
   ]
  },
  {
   "cell_type": "code",
   "execution_count": null,
   "metadata": {
    "collapsed": true
   },
   "outputs": [],
   "source": []
  },
  {
   "cell_type": "markdown",
   "metadata": {},
   "source": [
    "Sort years based the number of films produced. Is there a pattern? What can we say about the movie production rate over the years. "
   ]
  },
  {
   "cell_type": "code",
   "execution_count": null,
   "metadata": {
    "collapsed": true
   },
   "outputs": [],
   "source": []
  },
  {
   "cell_type": "markdown",
   "metadata": {},
   "source": [
    "Which genres are most liked ? "
   ]
  },
  {
   "cell_type": "code",
   "execution_count": null,
   "metadata": {},
   "outputs": [],
   "source": []
  },
  {
   "cell_type": "markdown",
   "metadata": {
    "collapsed": true
   },
   "source": [
    "Which genres are most popular (in terms of production) ? "
   ]
  },
  {
   "cell_type": "code",
   "execution_count": null,
   "metadata": {
    "collapsed": true
   },
   "outputs": [],
   "source": []
  },
  {
   "cell_type": "markdown",
   "metadata": {
    "cell_style": "center",
    "hide_input": false,
    "slideshow": {
     "slide_type": "slide"
    }
   },
   "source": [
    "**Open Ended:** You are considering to invest in a movie. Having this dataset, try to narrow your options to a single genre. That's find the find the genre of movies that are more \"investible\". \n",
    "\n",
    "You can consider a few of parameters: \n",
    " - average rating: it can be considered as the likelihood that the movie will be better received considering some genres have better ratings than others.  \n",
    " - number of movies: You can also consider the competition. \n",
    " - changes over the years: Another aspect to explore is whether these genres are getting better or worse over the (recent) years. \n",
    " - rating volatility (standard deviation): Also think about whether you are a risk taker or risk averse. Do you want to invest in a higly volitale genre (in terms of its ratings) or do you prefer to invest in a stable genre.   \n",
    " \n",
    "While there are no wrong answers here, please support your decision with appropriate data analysis using pandas."
   ]
  },
  {
   "cell_type": "code",
   "execution_count": null,
   "metadata": {
    "collapsed": true
   },
   "outputs": [],
   "source": []
  },
  {
   "cell_type": "code",
   "execution_count": null,
   "metadata": {
    "collapsed": true
   },
   "outputs": [],
   "source": []
  }
 ],
 "metadata": {
  "kernelspec": {
   "display_name": "Python 3",
   "language": "python",
   "name": "python3"
  },
  "language_info": {
   "codemirror_mode": {
    "name": "ipython",
    "version": 3
   },
   "file_extension": ".py",
   "mimetype": "text/x-python",
   "name": "python",
   "nbconvert_exporter": "python",
   "pygments_lexer": "ipython3",
   "version": "3.7.6"
  }
 },
 "nbformat": 4,
 "nbformat_minor": 2
}
