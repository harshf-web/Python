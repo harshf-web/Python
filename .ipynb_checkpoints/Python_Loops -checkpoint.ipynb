{
 "cells": [
  {
   "cell_type": "markdown",
   "metadata": {},
   "source": [
    "# Loops"
   ]
  },
  {
   "cell_type": "markdown",
   "metadata": {},
   "source": [
    "## For Loops"
   ]
  },
  {
   "cell_type": "code",
   "execution_count": 31,
   "metadata": {},
   "outputs": [
    {
     "name": "stdout",
     "output_type": "stream",
     "text": [
      "bear\n",
      "bunny\n",
      "dog\n",
      "cat\n",
      "velociraptor\n"
     ]
    }
   ],
   "source": [
    "animals = ['bear', 'bunny','dog', 'cat', 'velociraptor']\n",
    "\n",
    "for an_animal in animals:\n",
    "    print(an_animal)"
   ]
  },
  {
   "cell_type": "code",
   "execution_count": 10,
   "metadata": {},
   "outputs": [
    {
     "name": "stdout",
     "output_type": "stream",
     "text": [
      "bear\n",
      "bunny\n",
      "dog\n",
      "cat\n",
      "velociraptor\n"
     ]
    }
   ],
   "source": [
    "animals = ('bear', 'bunny','dog', 'cat', 'velociraptor')\n",
    "\n",
    "for i in range(5):\n",
    "    print(animals[i])"
   ]
  },
  {
   "cell_type": "code",
   "execution_count": 5,
   "metadata": {},
   "outputs": [
    {
     "data": {
      "text/plain": [
       "range(0, 5)"
      ]
     },
     "execution_count": 5,
     "metadata": {},
     "output_type": "execute_result"
    }
   ],
   "source": [
    "range(5)"
   ]
  },
  {
   "cell_type": "code",
   "execution_count": 12,
   "metadata": {},
   "outputs": [
    {
     "data": {
      "text/plain": [
       "[0, 1, 2, 3, 4]"
      ]
     },
     "execution_count": 12,
     "metadata": {},
     "output_type": "execute_result"
    }
   ],
   "source": [
    "list(range(5))"
   ]
  },
  {
   "cell_type": "code",
   "execution_count": 2,
   "metadata": {},
   "outputs": [
    {
     "name": "stdout",
     "output_type": "stream",
     "text": [
      "0 bear\n",
      "1 bunny\n",
      "2 dog\n",
      "3 cat\n",
      "4 velociraptor\n"
     ]
    }
   ],
   "source": [
    "animals = ('bear', 'bunny','dog', 'cat', 'velociraptor')\n",
    "for index, value in enumerate(animals):\n",
    "    print(index, value)\n",
    "    "
   ]
  },
  {
   "cell_type": "markdown",
   "metadata": {},
   "source": [
    "### Uses of loops: "
   ]
  },
  {
   "cell_type": "markdown",
   "metadata": {},
   "source": [
    "#### Count \n",
    "How many animals are there in the list (let's assume you can't use len() )"
   ]
  },
  {
   "cell_type": "code",
   "execution_count": 27,
   "metadata": {},
   "outputs": [
    {
     "name": "stdout",
     "output_type": "stream",
     "text": [
      "bear 1\n",
      "bunny 2\n",
      "dog 3\n",
      "cat 4\n",
      "velociraptor 5\n",
      "There are 5 animals in the list \n"
     ]
    }
   ],
   "source": [
    "animals = ('bear', 'bunny','dog', 'cat', 'velociraptor')\n",
    "\n",
    "count= 0                            ## initialize some variables\n",
    "for an_animal in animals:\n",
    "    count= count +1                 ## Update variables for every\n",
    "    print(an_animal, count)         ## iteration\n",
    "    \n",
    "                                    ## Final steps after the loop     \n",
    "print('There are {} animals in \\\n",
    "the list '.format(count), )    "
   ]
  },
  {
   "cell_type": "markdown",
   "metadata": {},
   "source": [
    "How many of the animals in the list start with b ?"
   ]
  },
  {
   "cell_type": "code",
   "execution_count": 30,
   "metadata": {},
   "outputs": [
    {
     "name": "stdout",
     "output_type": "stream",
     "text": [
      "bear 1\n",
      "bunny 2\n",
      "There are 2 animals in the list that starts with b \n"
     ]
    }
   ],
   "source": [
    "animals = ('bear', 'bunny','dog', 'cat', 'velociraptor')\n",
    "\n",
    "coun_b= 0                            ## initialize some variables\n",
    "for an_animal in animals:\n",
    "    if an_animal.startswith('b'):\n",
    "        coun_b= coun_b +1                 ## Update variables for every\n",
    "        print(an_animal, coun_b)         ## iteration\n",
    "    \n",
    "                                    ## Final steps after the loop     \n",
    "print('There are {} animals in \\\n",
    "the list that starts with b '.format(coun_b), )  "
   ]
  },
  {
   "cell_type": "markdown",
   "metadata": {},
   "source": [
    "#### Find\n",
    "Which of these animals are pets "
   ]
  },
  {
   "cell_type": "code",
   "execution_count": 34,
   "metadata": {},
   "outputs": [
    {
     "name": "stdout",
     "output_type": "stream",
     "text": [
      "['dog', 'cat']\n"
     ]
    }
   ],
   "source": [
    "animals = ['bear', 'bunny','dog', 'cat', 'velociraptor']\n",
    "common_pets=['bird','dog','cat','fish']\n",
    "\n",
    "pets_in_the_list=[]\n",
    "for an_animal in animals:\n",
    "    if an_animal in common_pets:\n",
    "        pets_in_the_list.append(an_animal)\n",
    "print(pets_in_the_list)"
   ]
  },
  {
   "cell_type": "markdown",
   "metadata": {},
   "source": [
    "Which of the animals has the longest name ? "
   ]
  },
  {
   "cell_type": "code",
   "execution_count": 36,
   "metadata": {},
   "outputs": [
    {
     "name": "stdout",
     "output_type": "stream",
     "text": [
      "12\n"
     ]
    }
   ],
   "source": [
    "animals = ['bear', 'bunny','dog', 'cat', 'velociraptor']\n",
    "\n",
    "longest_name=''                ##initialize some variables\n",
    "max_length=0                   ##\n",
    "for an_animal in animals: \n",
    "    my_len=len(an_animal)\n",
    "    if my_len > max_length: \n",
    "        max_length=my_len\n",
    "\n",
    "print(max_length)"
   ]
  },
  {
   "cell_type": "markdown",
   "metadata": {},
   "source": [
    "### input function"
   ]
  },
  {
   "cell_type": "code",
   "execution_count": null,
   "metadata": {},
   "outputs": [],
   "source": [
    "my_input = input()\n",
    "\n",
    "print(my_input, 'is saved ')"
   ]
  },
  {
   "cell_type": "code",
   "execution_count": 42,
   "metadata": {},
   "outputs": [
    {
     "name": "stdout",
     "output_type": "stream",
     "text": [
      "1\n",
      "3\n",
      "test\n",
      "3\n",
      "5\n",
      "['1', '3', 'test', '3', '5']\n"
     ]
    }
   ],
   "source": [
    "my_inputs=[]\n",
    "for i in range(5):\n",
    "    my_inputs.append(input())\n",
    "\n",
    "print(my_inputs)"
   ]
  },
  {
   "cell_type": "markdown",
   "metadata": {},
   "source": [
    "# While Loop"
   ]
  },
  {
   "cell_type": "code",
   "execution_count": null,
   "metadata": {},
   "outputs": [],
   "source": []
  },
  {
   "cell_type": "code",
   "execution_count": 44,
   "metadata": {},
   "outputs": [
    {
     "name": "stdout",
     "output_type": "stream",
     "text": [
      "What's the secret word? swordfish\n"
     ]
    }
   ],
   "source": [
    "secret = 'swordfish'\n",
    "pw = ''\n",
    "\n",
    "while pw != secret:\n",
    "    pw = input(\"What's the secret word? \")"
   ]
  },
  {
   "cell_type": "code",
   "execution_count": 45,
   "metadata": {},
   "outputs": [
    {
     "name": "stdout",
     "output_type": "stream",
     "text": [
      "1:What's the secret word? skrkdfjsb\n",
      "2:What's the secret word? naana\n",
      "3:What's the secret word? swordfish\n"
     ]
    }
   ],
   "source": [
    "secret = 'swordfish'\n",
    "pw = ''\n",
    "auth = False\n",
    "count = 0\n",
    "max_attempt = 5\n",
    "\n",
    "while pw != secret:\n",
    "    count +=1\n",
    "    pw = input(f\"{count}:What's the secret word? \")\n"
   ]
  },
  {
   "cell_type": "markdown",
   "metadata": {},
   "source": [
    "## Additional Controls"
   ]
  },
  {
   "cell_type": "code",
   "execution_count": 47,
   "metadata": {},
   "outputs": [
    {
     "name": "stdout",
     "output_type": "stream",
     "text": [
      "1:What's the secret word? oia\n",
      "2:What's the secret word? asdfoij a\n",
      "3:What's the secret word? adosaf[j \n",
      "4:What's the secret word? sdfa [o\n",
      "5:What's the secret word? dfas \n",
      "Calling the FBI...\n"
     ]
    }
   ],
   "source": [
    "secret = 'swordfish'\n",
    "pw = ''\n",
    "auth = False\n",
    "count = 0\n",
    "max_attempt = 5\n",
    "\n",
    "while pw != secret:\n",
    "    count +=1\n",
    "    if count > max_attempt: \n",
    "        break\n",
    "    pw = input(f\"{count}:What's the secret word? \")\n",
    "else:\n",
    "    auth = True\n",
    "print (\"Authorized\" if auth else \"Calling the FBI...\")"
   ]
  },
  {
   "cell_type": "code",
   "execution_count": 8,
   "metadata": {},
   "outputs": [
    {
     "name": "stdout",
     "output_type": "stream",
     "text": [
      "[1]: What's the secret word? a\n",
      "[2]: What's the secret word? b\n",
      "[4]: What's the secret word? c\n",
      "[5]: What's the secret word? d\n"
     ]
    }
   ],
   "source": [
    "secret = 'swordfish'\n",
    "pw = ''\n",
    "auth = False\n",
    "count = 0\n",
    "max_attempt = 5\n",
    "\n",
    "while pw != secret:\n",
    "    count +=1\n",
    "    if count > max_attempt: break\n",
    "    if count==3: continue\n",
    "    pw = input(\"[\"+str(count)+\"]: \"+\"What's the secret word? \")\n",
    "    \n",
    "else:\n",
    "    auth = True\n",
    "    print (\"Authorized\" if auth else \"Calling the FBI...\")"
   ]
  }
 ],
 "metadata": {
  "kernelspec": {
   "display_name": "Python 3",
   "language": "python",
   "name": "python3"
  },
  "language_info": {
   "codemirror_mode": {
    "name": "ipython",
    "version": 3
   },
   "file_extension": ".py",
   "mimetype": "text/x-python",
   "name": "python",
   "nbconvert_exporter": "python",
   "pygments_lexer": "ipython3",
   "version": "3.7.6"
  }
 },
 "nbformat": 4,
 "nbformat_minor": 2
}
